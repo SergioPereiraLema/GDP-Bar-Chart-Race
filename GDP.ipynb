{
 "cells": [
  {
   "cell_type": "markdown",
   "id": "c23d3512",
   "metadata": {},
   "source": [
    "# GDP per capita Bar Chart Race\n",
    "\n",
    "Create a Bar Chart Race to show the evolution of GDP per cápita at current market prices by NUTS 2 or NUTS 3 regions for the period 2010-2019\n",
    "\n",
    "@author: Sergio Pereira\n",
    "\n",
    "@email: <sergio@sergiopereira.gal>"
   ]
  },
  {
   "cell_type": "markdown",
   "id": "1ecbf85e",
   "metadata": {},
   "source": [
    "## Libraries\n",
    "\n",
    "This project uses [Pandas](https://pandas.pydata.org/) and [Bar_Chart_Race](https://www.dexplo.org/bar_chart_race/)"
   ]
  },
  {
   "cell_type": "code",
   "execution_count": 15,
   "id": "a0a6750d",
   "metadata": {},
   "outputs": [],
   "source": [
    "# Import libraries\n",
    "\n",
    "import pandas as pd\n",
    "import numpy as np\n",
    "import bar_chart_race as bcr"
   ]
  },
  {
   "cell_type": "markdown",
   "id": "d153eca4",
   "metadata": {},
   "source": [
    "## Data sources\n",
    "\n",
    "This project takes two files downloaded from Eurostat, the statistical office of the European Union.\n",
    "\n",
    "This two datasets are used:\n",
    "\n",
    "- Eurostat [GDP) at current market prices by NUTS 3 regions](https://appsso.eurostat.ec.europa.eu/nui/show.do?dataset=nama_10r_3gdp&lang=en)\n",
    "- Eurostat [Average annual population to calculate regional GDP data](https://appsso.eurostat.ec.europa.eu/nui/show.do?dataset=nama_10r_3gdp&lang=en)\n",
    "\n",
    "Another file is the NUTS classification (Country, NUT1, NUT2, NUT3) for each entity in the previous files. This file only contains info for Spain and Portugal, and has been created manually based on this file from Eurostat: [Area by NUTS 3 region](https://appsso.eurostat.ec.europa.eu/nui/show.do?dataset=reg_area3&lang=en)"
   ]
  },
  {
   "cell_type": "code",
   "execution_count": 16,
   "id": "064d4633",
   "metadata": {},
   "outputs": [],
   "source": [
    "# Read GDP data (file downloaded from Eurostat)\n",
    "gdp = pd.read_csv('gdp.csv', decimal='.', encoding = 'unicode_escape')\n",
    "gdp['Value'].fillna('0',inplace=True) \n",
    "gdp['Value'] = gdp['Value'].astype(float)"
   ]
  },
  {
   "cell_type": "code",
   "execution_count": 17,
   "id": "828f3cf6",
   "metadata": {},
   "outputs": [],
   "source": [
    "# Read average annual population to calculate regional GDP per capita \n",
    "pop = pd.read_csv('popul.csv', decimal='.', encoding = 'unicode_escape')\n",
    "pop['Value'].fillna('0',inplace=True)\n",
    "pop['Value'] = pop['Value'].astype(float)"
   ]
  },
  {
   "cell_type": "code",
   "execution_count": 18,
   "id": "d52dfd2e",
   "metadata": {},
   "outputs": [],
   "source": [
    "# Read the classification file, with all the values for GEO and the level (Country, NUT1, NUT2, NUT3) for Spain and Portugal\n",
    "clas = pd.read_csv('clasif.csv')\n"
   ]
  },
  {
   "cell_type": "markdown",
   "id": "fc319661",
   "metadata": {},
   "source": [
    "## Data Processing\n",
    "\n",
    "Merge the input files to build our complete dataset, some data cleaning, and data processing to prepare the dataset to generate the bar chart race"
   ]
  },
  {
   "cell_type": "code",
   "execution_count": 19,
   "id": "6111b33c",
   "metadata": {},
   "outputs": [],
   "source": [
    "# Merge both datasets\n",
    "df = pd.merge(gdp,pop, how='left', left_on=['GEO','TIME'], right_on=['GEO','TIME'])\n",
    "df.rename(columns={'Value_x':'GDP', 'Value_y':'Population'},inplace=True)"
   ]
  },
  {
   "cell_type": "code",
   "execution_count": 20,
   "id": "e31e1b91",
   "metadata": {},
   "outputs": [],
   "source": [
    "# Exclude rows with Population = 0, to avoid division by zero\n",
    "df = df.loc[~(df['Population'] == 0)]"
   ]
  },
  {
   "cell_type": "code",
   "execution_count": 21,
   "id": "72285af1",
   "metadata": {},
   "outputs": [],
   "source": [
    "# Add column for GDP per capita\n",
    "df['GDP/cap']=round(df.GDP.div(df.Population)*1000,2)"
   ]
  },
  {
   "cell_type": "code",
   "execution_count": 22,
   "id": "47926b44",
   "metadata": {},
   "outputs": [],
   "source": [
    "# Merge with the previous dataset\n",
    "df = pd.merge(df,clas, how='left', left_on=['GEO'], right_on=['Value'])"
   ]
  },
  {
   "cell_type": "code",
   "execution_count": 23,
   "id": "f450b175",
   "metadata": {},
   "outputs": [],
   "source": [
    "# Create a subset with the rows for the desired levels. In this case, selected only Country and NUT2\n",
    "sub = df[df['Type'].isin(['Country','NUT2'])].copy()"
   ]
  },
  {
   "cell_type": "code",
   "execution_count": 24,
   "id": "12abf443",
   "metadata": {},
   "outputs": [],
   "source": [
    "# Replace infinite updated data with nan\n",
    "sub.replace([np.inf, -np.inf], np.nan, inplace=True)\n",
    "# Drop rows with NaN\n",
    "sub.dropna(subset=['GDP/cap'],inplace=True)\n",
    "#Remove duplicates\n",
    "sub.drop_duplicates(inplace=True)"
   ]
  },
  {
   "cell_type": "code",
   "execution_count": 25,
   "id": "67ad949a",
   "metadata": {},
   "outputs": [],
   "source": [
    "# Select only the necessary columns\n",
    "sub = sub[['GEO','TIME','GDP/cap']]"
   ]
  },
  {
   "cell_type": "code",
   "execution_count": 26,
   "id": "535d5e12",
   "metadata": {},
   "outputs": [],
   "source": [
    "# Pivot the table to put in the necessary format for Bar_Chart_Race\n",
    "df = sub.pivot_table(values = 'GDP/cap',index = ['TIME'],columns = 'GEO')"
   ]
  },
  {
   "cell_type": "markdown",
   "id": "2571701f",
   "metadata": {},
   "source": [
    "## Generate the graph\n",
    "\n",
    "The bar_chart_race allows to generate an output video file in mp4 format ([FFmpeg](https://www.ffmpeg.org/) must be installed)"
   ]
  },
  {
   "cell_type": "code",
   "execution_count": 27,
   "id": "d8fe4e39",
   "metadata": {},
   "outputs": [
    {
     "name": "stderr",
     "output_type": "stream",
     "text": [
      "C:\\Users\\SergioPer\\Miniconda3\\envs\\data_processing\\lib\\site-packages\\bar_chart_race\\_make_chart.py:286: UserWarning: FixedFormatter should only be used together with FixedLocator\n",
      "  ax.set_yticklabels(self.df_values.columns)\n",
      "C:\\Users\\SergioPer\\Miniconda3\\envs\\data_processing\\lib\\site-packages\\bar_chart_race\\_make_chart.py:287: UserWarning: FixedFormatter should only be used together with FixedLocator\n",
      "  ax.set_xticklabels([max_val] * len(ax.get_xticks()))\n"
     ]
    }
   ],
   "source": [
    "# Generate the output: an mp4 file with 20 categories\n",
    "bcr.bar_chart_race(df = df, \n",
    "                   n_bars = 20, \n",
    "                   period_length=1500,\n",
    "                   figsize=(10, 7),\n",
    "                   dpi=300,\n",
    "                   sort='desc',\n",
    "                   title='GDP per capita, NUT2 Regions 2010-2019 (Spain)',\n",
    "                   filename = 'gdp.mp4')\n"
   ]
  },
  {
   "cell_type": "markdown",
   "id": "94a84db4",
   "metadata": {},
   "source": [
    "(c) Sergio Pereira 2022"
   ]
  }
 ],
 "metadata": {
  "kernelspec": {
   "display_name": "Python 3 (ipykernel)",
   "language": "python",
   "name": "python3"
  },
  "language_info": {
   "codemirror_mode": {
    "name": "ipython",
    "version": 3
   },
   "file_extension": ".py",
   "mimetype": "text/x-python",
   "name": "python",
   "nbconvert_exporter": "python",
   "pygments_lexer": "ipython3",
   "version": "3.10.0"
  }
 },
 "nbformat": 4,
 "nbformat_minor": 5
}
